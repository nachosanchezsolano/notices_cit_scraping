{
 "cells": [
  {
   "cell_type": "code",
   "execution_count": 32,
   "metadata": {},
   "outputs": [],
   "source": [
    "from bs4 import BeautifulSoup\n",
    "import requests\n",
    "import pandas as pd\n",
    "\n",
    "\n",
    "def get_tittles_cit(url):\n",
    "\n",
    "    url=requests.get(url)\n",
    "    ## se utiliza BeautifulSoup para tomar el html\n",
    "    soup = BeautifulSoup(url.text,\"html.parser\")\n",
    "\n",
    "    notices_tittles=soup.find_all(\"h2\", class_=\"bt_bb_headline_tag\")\n",
    "    notices_date=soup.find_all(\"span\",class_=\"btArticleDate\")\n",
    "    notice_autor=soup.find_all(\"span\",class_=\"btArticleAuthor\")\n",
    "    \n",
    "    notices= []\n",
    "\n",
    "    for i in range(len(notices_tittles)):\n",
    "        notice={}\n",
    "        notice[\"tittle\"]=notices_tittles[i].text\n",
    "        notice[\"date\"]=notices_date[i].text\n",
    "        notice[\"autor\"]=notice_autor[i].text\n",
    "        notices.append(notice)\n",
    "\n",
    "    return notices\n",
    "\n",
    "\n",
    "tittles=[]\n",
    "\n",
    "i=0\n",
    "\n",
    "while (True):\n",
    "    try:\n",
    "        tittles= tittles+get_tittles_cit(f\"https://citlafalda.gob.ar/noticias/page/{i+1}/\")\n",
    "        i+=1\n",
    "    except:\n",
    "        break"
   ]
  },
  {
   "cell_type": "code",
   "execution_count": 61,
   "metadata": {},
   "outputs": [
    {
     "name": "stdout",
     "output_type": "stream",
     "text": [
      "None\n"
     ]
    }
   ],
   "source": [
    "from pathlib import Path  \n",
    "\n",
    "df= pd.DataFrame.from_records(tittles)\n",
    "\n",
    "noticias_CIT= df.to_csv('Noticias_CIT.csv',index=False,encoding=\"utf-8\")  \n",
    "\n",
    "print (noticias_CIT)"
   ]
  }
 ],
 "metadata": {
  "kernelspec": {
   "display_name": "Python 3 (ipykernel)",
   "language": "python",
   "name": "python3"
  },
  "language_info": {
   "codemirror_mode": {
    "name": "ipython",
    "version": 3
   },
   "file_extension": ".py",
   "mimetype": "text/x-python",
   "name": "python",
   "nbconvert_exporter": "python",
   "pygments_lexer": "ipython3",
   "version": "3.9.5"
  },
  "orig_nbformat": 4,
  "vscode": {
   "interpreter": {
    "hash": "0b68efdc46170d6c09df60c6e5c3ac1fd6e4d81b7dc57d0973e266a35e3256e4"
   }
  }
 },
 "nbformat": 4,
 "nbformat_minor": 2
}
