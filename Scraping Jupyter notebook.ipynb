{
 "cells": [
  {
   "cell_type": "code",
   "execution_count": 2,
   "metadata": {},
   "outputs": [
    {
     "name": "stdout",
     "output_type": "stream",
     "text": [
      "[{'tittle': 'Se realizó la entrega de Certificados por la Diplomatura en Modelado e Impresión 3D', 'date': 'diciembre 6, 2022', 'autor': 'by Walter Bove'}, {'tittle': 'Expo Proa La Falda 2022: Muestra anual de producciones ProA', 'date': 'diciembre 6, 2022', 'autor': 'by Walter Bove'}, {'tittle': 'Pasó Expo MEP 2022: Exposición anual realizada por el Instituto Técnico La Falda', 'date': 'diciembre 2, 2022', 'autor': 'by Walter Bove'}, {'tittle': 'Vecinos de Villa Edén convocaron al CIT para impulsar a través de la tecnología la historia de su barrio.', 'date': 'noviembre 30, 2022', 'autor': 'by Walter Bove'}, {'tittle': 'Jornada de Robótica Virtual en CIT La Falda, a cargo de Escuela ProA y con la visita de primarios de la ciudad.', 'date': 'noviembre 29, 2022', 'autor': 'by Walter Bove'}, {'tittle': 'En el mes de nuestro segundo aniversario compartimos nuestros logros con vos!', 'date': 'noviembre 4, 2022', 'autor': 'by Walter Bove'}, {'tittle': 'CIT La Falda visitó la 54º Feria Provincial de Ciencias y Tecnología realizada en la ciudad de Córdoba', 'date': 'noviembre 3, 2022', 'autor': 'by Walter Bove'}, {'tittle': 'Energía Solar Térmica – Taller Virtual', 'date': 'octubre 18, 2022', 'autor': 'by Walter Bove'}, {'tittle': 'Nuevo lanzamiento del Curso práctico Fibra Óptica orientado al Hogar FTTH.', 'date': 'septiembre 27, 2022', 'autor': 'by Walter Bove'}, {'tittle': 'CIT LA FALDA MENCIONADO COMO EJEMPLO A SEGUIR EN EL DISCURSO INAUGURAL DE EXPOTRÓNICA 2022.', 'date': 'septiembre 20, 2022', 'autor': 'by Walter Bove'}]\n"
     ]
    }
   ],
   "source": [
    "from bs4 import BeautifulSoup\n",
    "import requests\n",
    "\n",
    "def get_tittles_cit(url):\n",
    "\n",
    "    url=requests.get(url)\n",
    "    ## se utiliza BeautifulSoup para tomar el html\n",
    "    soup = BeautifulSoup(url.text,\"html.parser\")\n",
    "\n",
    "    notices_tittles=soup.find_all(\"h2\", class_=\"bt_bb_headline_tag\")\n",
    "    notices_date=soup.find_all(\"span\",class_=\"btArticleDate\")\n",
    "    notice_autor=soup.find_all(\"span\",class_=\"btArticleAuthor\")\n",
    "    \n",
    "    notices= []\n",
    "\n",
    "    for i in range(len(notices_tittles)):\n",
    "        notice={}\n",
    "        notice[\"tittle\"]=notices_tittles[i].text\n",
    "        notice[\"date\"]=notices_date[i].text\n",
    "        notice[\"autor\"]=notice_autor[i].text\n",
    "        notices.append(notice)\n",
    "\n",
    "    return notices\n",
    "    \n",
    "tittles=get_tittles_cit(\"https://citlafalda.gob.ar/noticias/\")\n",
    "\n",
    "##for i in range(16):\n",
    "    \n",
    "\n",
    "\n",
    "print (tittles)"
   ]
  }
 ],
 "metadata": {
  "kernelspec": {
   "display_name": "Python 3 (ipykernel)",
   "language": "python",
   "name": "python3"
  },
  "language_info": {
   "codemirror_mode": {
    "name": "ipython",
    "version": 3
   },
   "file_extension": ".py",
   "mimetype": "text/x-python",
   "name": "python",
   "nbconvert_exporter": "python",
   "pygments_lexer": "ipython3",
   "version": "3.9.5"
  },
  "orig_nbformat": 4,
  "vscode": {
   "interpreter": {
    "hash": "0b68efdc46170d6c09df60c6e5c3ac1fd6e4d81b7dc57d0973e266a35e3256e4"
   }
  }
 },
 "nbformat": 4,
 "nbformat_minor": 2
}
